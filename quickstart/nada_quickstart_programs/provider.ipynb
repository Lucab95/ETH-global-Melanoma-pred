{
 "cells": [
  {
   "cell_type": "markdown",
   "metadata": {},
   "source": [
    "# Multi-layer perceptron"
   ]
  },
  {
   "cell_type": "code",
   "execution_count": 1,
   "metadata": {},
   "outputs": [],
   "source": [
    "## If problems arise with the loading of the shared library, this script can be used to load the shared library before other libraries.\n",
    "## Remember to also run on your local machine the script below:\n",
    "# bash replace_lib_version.sh\n",
    "\n",
    "import platform\n",
    "import ctypes\n",
    "\n",
    "# if platform.system() == \"Linux\":\n",
    "#     # Force libgomp to be loaded before other libraries consuming dynamic TLS (to avoid running out of STATIC_TLS)\n",
    "#     ctypes.cdll.LoadLibrary(\"libgomp.so.1\")\n",
    "#     ctypes.cdll.LoadLibrary(\n",
    "#         \"/home/vscode/.local/lib/python3.12/site-packages/py_nillion_client/py_nillion_client.abi3.so\"\n",
    "#     )"
   ]
  },
  {
   "cell_type": "code",
   "execution_count": 2,
   "metadata": {},
   "outputs": [
    {
     "name": "stdout",
     "output_type": "stream",
     "text": [
      "/home/brglt/Desktop/nillion/quickstart\n"
     ]
    },
    {
     "name": "stdout",
     "output_type": "stream",
     "text": [
      "/home/brglt/.config/nillion/nillion-devnet.env\n"
     ]
    }
   ],
   "source": [
    "import os\n",
    "import sys\n",
    "\n",
    "sys.path.append(os.path.abspath(os.path.join(os.getcwd(), os.pardir)))\n",
    "print(os.path.abspath(os.path.join(os.getcwd(), os.pardir)))\n",
    "import json\n",
    "import nada_numpy as na\n",
    "import numpy as np\n",
    "import py_nillion_client as nillion\n",
    "import torch\n",
    "from common.utils import store_program, store_secrets\n",
    "from cosmpy.aerial.client import LedgerClient\n",
    "from cosmpy.aerial.wallet import LocalWallet\n",
    "from cosmpy.crypto.keypairs import PrivateKey\n",
    "from dotenv import load_dotenv\n",
    "from nada_ai.client import TorchClient\n",
    "from nillion_python_helpers import (create_nillion_client,\n",
    "                                    create_payments_config)\n",
    "from py_nillion_client import NodeKey, UserKey\n",
    "\n",
    "from torch import nn\n",
    "from torchvision import transforms\n",
    "from sklearn.metrics import (\n",
    "    confusion_matrix,\n",
    "    ConfusionMatrixDisplay,\n",
    "    precision_recall_fscore_support,\n",
    ")\n",
    "import matplotlib.pyplot as plt\n",
    "from PIL import Image\n",
    "import numpy as np\n",
    "\n",
    "home = os.getenv(\"HOME\")\n",
    "load_dotenv(f\"{home}/.config/nillion/nillion-devnet.env\")\n",
    "print((f\"{home}/.config/nillion/nillion-devnet.env\"))"
   ]
  },
  {
   "cell_type": "code",
   "execution_count": null,
   "metadata": {},
   "outputs": [],
   "source": []
  },
  {
   "cell_type": "markdown",
   "metadata": {},
   "source": [
    "### Train a Covid image classification model on CT scans\n",
    "\n",
    "Before this step you must install kaggle"
   ]
  },
  {
   "cell_type": "code",
   "execution_count": 3,
   "metadata": {},
   "outputs": [],
   "source": [
    "# !kaggle datasets download mehradaria/covid19-lung-ct-scans -p data --unzip"
   ]
  },
  {
   "cell_type": "code",
   "execution_count": 4,
   "metadata": {},
   "outputs": [],
   "source": [
    "class MelanomaDataset(torch.utils.data.Dataset):\n",
    "    def __init__(self, root_dir: os.PathLike, transform) -> None:\n",
    "        self.root_dir = root_dir\n",
    "        self.transform = transform\n",
    "\n",
    "        self.classes = [\"Benign\", \"Malignant\"]\n",
    "\n",
    "        self.data = []\n",
    "        self.targets = []\n",
    "\n",
    "        for class_index, class_name in enumerate(self.classes):\n",
    "            class_dir = os.path.join(self.root_dir, class_name)\n",
    "            for filename in os.listdir(class_dir):\n",
    "                if filename.endswith(\".jpg\"):\n",
    "                    img_path = os.path.join(class_dir, filename)\n",
    "                    self.data.append(img_path)\n",
    "                    self.targets.append(class_index)\n",
    "\n",
    "    def __len__(self):\n",
    "        return len(self.data)\n",
    "\n",
    "    def __getitem__(self, index):\n",
    "        img_path = self.data[index]\n",
    "        label = self.targets[index]\n",
    "\n",
    "        img = Image.open(img_path).convert(\"RGB\")\n",
    "        img = self.transform(img)\n",
    "\n",
    "        return img, label"
   ]
  },
  {
   "cell_type": "code",
   "execution_count": 5,
   "metadata": {},
   "outputs": [],
   "source": [
    "# Create custom torch Module\n",
    "class MyNN(nn.Module):\n",
    "    \"\"\"My brand new model\"\"\"\n",
    "\n",
    "    def __init__(self) -> None:\n",
    "        \"\"\"Model is a two layers and an activations\"\"\"\n",
    "        super().__init__()\n",
    "        self.conv1 = nn.Conv2d(\n",
    "            in_channels=1, out_channels=2, kernel_size=3, padding=1, stride=3\n",
    "        )\n",
    "        self.pool = nn.AvgPool2d(kernel_size=2, stride=2)\n",
    "        self.fc1 = nn.Linear(in_features=18, out_features=2)\n",
    "\n",
    "        self.relu = nn.ReLU()\n",
    "        self.flatten = nn.Flatten()\n",
    "\n",
    "    def forward(self, x: na.NadaArray) -> na.NadaArray:\n",
    "        \"\"\"My forward pass logic\"\"\"\n",
    "        x = self.relu(self.conv1(x))\n",
    "        x = self.pool(x)\n",
    "        x = self.flatten(x)\n",
    "        x = self.fc1(x)\n",
    "        return x\n",
    "\n",
    "my_model = MyNN()"
   ]
  },
  {
   "cell_type": "code",
   "execution_count": 6,
   "metadata": {},
   "outputs": [],
   "source": [
    "dataset = MelanomaDataset(\n",
    "    os.path.join(\"src/data\", \"train\"),\n",
    "    \n",
    "    transform=transforms.Compose(\n",
    "        [\n",
    "            transforms.Grayscale(),\n",
    "            transforms.Resize((16, 16)),\n",
    "            transforms.ToTensor(),\n",
    "        ]\n",
    "    ),\n",
    ")\n",
    "trainset, testset = torch.utils.data.random_split(dataset, [0.8, 0.2])\n",
    "trainloader = torch.utils.data.DataLoader(trainset, batch_size=16, shuffle=True)\n",
    "testloader = torch.utils.data.DataLoader(testset, batch_size=16, shuffle=True)\n",
    "\n",
    "loss_function = nn.CrossEntropyLoss()\n",
    "optimizer = torch.optim.AdamW(my_model.parameters(), lr=1e-4)"
   ]
  },
  {
   "cell_type": "code",
   "execution_count": 7,
   "metadata": {},
   "outputs": [
    {
     "name": "stdout",
     "output_type": "stream",
     "text": [
      "Starting epoch 1...\n"
     ]
    },
    {
     "name": "stderr",
     "output_type": "stream",
     "text": [
      "/home/brglt/miniconda3/envs/ml/lib/python3.12/site-packages/torch/autograd/__init__.py:266: UserWarning: CUDA initialization: CUDA unknown error - this may be due to an incorrectly set up environment, e.g. changing env variable CUDA_VISIBLE_DEVICES after program start. Setting the available devices to be zero. (Triggered internally at /opt/conda/conda-bld/pytorch_1711403380481/work/c10/cuda/CUDAFunctions.cpp:108.)\n",
      "  Variable._execution_engine.run_backward(  # Calls into the C++ engine to run the backward pass\n"
     ]
    },
    {
     "name": "stdout",
     "output_type": "stream",
     "text": [
      "Loss after mini-batch   100: 0.703\n",
      "Accuracy after mini-batch   100: 41.812\n",
      "Loss after mini-batch   200: 0.699\n",
      "Accuracy after mini-batch   200: 47.625\n",
      "Loss after mini-batch   300: 0.693\n",
      "Accuracy after mini-batch   300: 56.500\n",
      "Loss after mini-batch   400: 0.691\n",
      "Accuracy after mini-batch   400: 53.625\n",
      "Loss after mini-batch   500: 0.686\n",
      "Accuracy after mini-batch   500: 55.875\n"
     ]
    }
   ],
   "source": [
    "accuracies, losses = [], []\n",
    "for epoch in range(1):\n",
    "    print(f\"Starting epoch {epoch+1}...\")\n",
    "\n",
    "    incorrect, correct = 0, 0\n",
    "    current_loss = 0\n",
    "    for i, data in enumerate(trainloader):\n",
    "        inputs, targets = data\n",
    "\n",
    "        optimizer.zero_grad()\n",
    "\n",
    "        outputs = my_model(inputs)\n",
    "        loss = loss_function(outputs, targets)\n",
    "\n",
    "        preds = torch.argmax(outputs, axis=1)\n",
    "\n",
    "        correct += (preds == targets).float().sum()\n",
    "        incorrect += (preds != targets).float().sum()\n",
    "\n",
    "        loss.backward()\n",
    "        optimizer.step()\n",
    "\n",
    "        current_loss += loss.item()\n",
    "        if i % 100 == 99:\n",
    "            accuracy = 100 * correct / (incorrect + correct)\n",
    "            accuracies.append(accuracy)\n",
    "\n",
    "            print(\"Loss after mini-batch %5d: %.3f\" % (i + 1, current_loss / 100))\n",
    "            losses.append(current_loss / 100)\n",
    "            print(\"Accuracy after mini-batch %5d: %.3f\" % (i + 1, accuracy))\n",
    "\n",
    "            correct, incorrect = 0, 0\n",
    "            current_loss = 0"
   ]
  },
  {
   "cell_type": "code",
   "execution_count": 8,
   "metadata": {},
   "outputs": [
    {
     "data": {
      "text/plain": [
       "[<matplotlib.lines.Line2D at 0x772eec361ee0>]"
      ]
     },
     "execution_count": 8,
     "metadata": {},
     "output_type": "execute_result"
    },
    {
     "data": {
      "image/png": "[encoded data removed]",
      "text/plain": [
       "<Figure size 640x480 with 1 Axes>"
      ]
     },
     "metadata": {},
     "output_type": "display_data"
    }
   ],
   "source": [
    "plt.plot(accuracies)"
   ]
  },
  {
   "cell_type": "code",
   "execution_count": 9,
   "metadata": {},
   "outputs": [
    {
     "data": {
      "text/plain": [
       "[<matplotlib.lines.Line2D at 0x772eec1f1460>]"
      ]
     },
     "execution_count": 9,
     "metadata": {},
     "output_type": "execute_result"
    },
    {
     "data": {
      "image/png": "[encoded data removed]",
      "text/plain": [
       "<Figure size 640x480 with 1 Axes>"
      ]
     },
     "metadata": {},
     "output_type": "display_data"
    }
   ],
   "source": [
    "plt.plot(losses)"
   ]
  },
  {
   "cell_type": "code",
   "execution_count": 10,
   "metadata": {},
   "outputs": [],
   "source": [
    "y_pred = []\n",
    "y_true = []\n",
    "for i, data in enumerate(testloader):\n",
    "    inputs, targets = data\n",
    "\n",
    "    outputs = my_model(inputs)\n",
    "    preds = torch.argmax(outputs, axis=1)\n",
    "\n",
    "    y_pred.extend(preds.tolist())\n",
    "    y_true.extend(targets.tolist())"
   ]
  },
  {
   "cell_type": "code",
   "execution_count": 11,
   "metadata": {},
   "outputs": [
    {
     "name": "stdout",
     "output_type": "stream",
     "text": [
      "precision: 0.000%\n",
      "recall: 0.000%\n",
      "f1: 0.000%\n",
      "support: 1134\n"
     ]
    }
   ],
   "source": [
    "precision, recall, f1, support = precision_recall_fscore_support(y_true, y_pred)\n",
    "print(\"precision: {:.3f}%\".format(precision[1] * 100))\n",
    "print(\"recall: {:.3f}%\".format(recall[1] * 100))\n",
    "print(\"f1: {:.3f}%\".format(f1[1] * 100))\n",
    "print(\"support: {}\".format(support[1]))"
   ]
  },
  {
   "cell_type": "code",
   "execution_count": 12,
   "metadata": {},
   "outputs": [
    {
     "data": {
      "text/plain": [
       "<sklearn.metrics._plot.confusion_matrix.ConfusionMatrixDisplay at 0x772eec125be0>"
      ]
     },
     "execution_count": 12,
     "metadata": {},
     "output_type": "execute_result"
    },
    {
     "data": {
      "image/png": "[encoded data removed]",
      "text/plain": [
       "<Figure size 640x480 with 2 Axes>"
      ]
     },
     "metadata": {},
     "output_type": "display_data"
    }
   ],
   "source": [
    "disp = ConfusionMatrixDisplay(confusion_matrix(y_true, y_pred, normalize=\"true\"), )\n",
    "disp.plot()"
   ]
  },
  {
   "cell_type": "markdown",
   "metadata": {},
   "source": [
    "## Model Provider flow"
   ]
  },
  {
   "cell_type": "markdown",
   "metadata": {},
   "source": [
    "### Authenticate with Nillion"
   ]
  },
  {
   "cell_type": "markdown",
   "metadata": {},
   "source": [
    "To connect to the Nillion network, we need to have a user key and a node key. These serve different purposes:\n",
    "\n",
    "The `user_key` is the user's private key. The user key should never be shared publicly, as it unlocks access and permissions to secrets stored on the network.\n",
    "\n",
    "The `node_key` is the node's private key which is run locally to connect to the network."
   ]
  },
  {
   "cell_type": "code",
   "execution_count": 13,
   "metadata": {},
   "outputs": [
    {
     "data": {
      "text/plain": [
       "'/home/brglt/Desktop/nillion/quickstart/nada_quickstart_programs'"
      ]
     },
     "execution_count": 13,
     "metadata": {},
     "output_type": "execute_result"
    }
   ],
   "source": [
    "os.getcwd()"
   ]
  },
  {
   "cell_type": "code",
   "execution_count": 14,
   "metadata": {},
   "outputs": [
    {
     "name": "stdout",
     "output_type": "stream",
     "text": [
      "9e68173f-9c23-4acc-ba81-4f079b639964\n",
      "9e68173f-9c23-4acc-ba81-4f079b639964\n"
     ]
    }
   ],
   "source": [
    "# Load all Nillion network environment variables\n",
    "os.getcwd()\n",
    "assert os.getcwd().endswith(\n",
    "    \"nada_quickstart_programs\"\n",
    "), \"Please run this script from the examples/multi_layer_perceptron directory otherwise, the rest of the tutorial may not work\"\n",
    "load_dotenv()\n",
    "print(os.getenv(\"NILLION_CLUSTER_ID\"))\n",
    "dotenv_path = '/home/brglt/Desktop/nillion/quickstart/nada_quickstart_programs/.env'\n",
    "load_dotenv(dotenv_path)\n",
    "print(os.getenv(\"NILLION_CLUSTER_ID\"))"
   ]
  },
  {
   "cell_type": "code",
   "execution_count": 15,
   "metadata": {},
   "outputs": [
    {
     "name": "stdout",
     "output_type": "stream",
     "text": [
      "9e68173f-9c23-4acc-ba81-4f079b639964\n"
     ]
    }
   ],
   "source": [
    "print(os.getenv(\"NILLION_CLUSTER_ID\"))"
   ]
  },
  {
   "cell_type": "code",
   "execution_count": 16,
   "metadata": {},
   "outputs": [],
   "source": [
    "cluster_id = os.getenv(\"NILLION_CLUSTER_ID\")\n",
    "grpc_endpoint = os.getenv(\"NILLION_NILCHAIN_GRPC\")\n",
    "chain_id = os.getenv(\"NILLION_NILCHAIN_CHAIN_ID\")\n",
    "seed = \"my_seed\"\n",
    "model_provider_userkey = UserKey.from_seed((seed))\n",
    "model_provider_nodekey = NodeKey.from_seed((seed))\n",
    "model_provider_client = create_nillion_client(model_provider_userkey, model_provider_nodekey)\n",
    "model_provider_party_id = model_provider_client.party_id\n",
    "model_provider_user_id = model_provider_client.user_id"
   ]
  },
  {
   "cell_type": "code",
   "execution_count": 17,
   "metadata": {},
   "outputs": [
    {
     "name": "stdout",
     "output_type": "stream",
     "text": [
      "CHROME_DESKTOP: code-url-handler.desktop\n",
      "CONDA_DEFAULT_ENV: ml\n",
      "CONDA_EXE: /home/brglt/miniconda3/bin/conda\n",
      "CONDA_PREFIX: /home/brglt/miniconda3/envs/ml\n",
      "CONDA_PROMPT_MODIFIER: (ml) \n",
      "CONDA_PYTHON_EXE: /home/brglt/miniconda3/bin/python\n",
      "CONDA_SHLVL: 2\n",
      "DBUS_SESSION_BUS_ADDRESS: unix:path=/run/user/1000/bus\n",
      "DEBUGINFOD_URLS: https://debuginfod.ubuntu.com \n",
      "DESKTOP_SESSION: ubuntu-wayland\n",
      "DISPLAY: :0\n",
      "GDK_BACKEND: x11\n",
      "GDMSESSION: ubuntu-wayland\n",
      "GIO_LAUNCHED_DESKTOP_FILE: /usr/share/applications/code.desktop\n",
      "GIO_LAUNCHED_DESKTOP_FILE_PID: 3742\n",
      "GJS_DEBUG_OUTPUT: stderr\n",
      "GJS_DEBUG_TOPICS: JS ERROR;JS LOG\n",
      "GNOME_DESKTOP_SESSION_ID: this-is-deprecated\n",
      "GNOME_SETUP_DISPLAY: :1\n",
      "GNOME_SHELL_SESSION_MODE: ubuntu\n",
      "GTK_MODULES: gail:atk-bridge\n",
      "HOME: /home/brglt\n",
      "IM_CONFIG_CHECK_ENV: 1\n",
      "IM_CONFIG_PHASE: 1\n",
      "INVOCATION_ID: 3dd17922280d4ab9b26a973d8e131735\n",
      "JOURNAL_STREAM: 8:44134\n",
      "LANG: en_US.UTF-8\n",
      "LC_ADDRESS: nl_NL.UTF-8\n",
      "LC_IDENTIFICATION: nl_NL.UTF-8\n",
      "LC_MEASUREMENT: nl_NL.UTF-8\n",
      "LC_MONETARY: nl_NL.UTF-8\n",
      "LC_NAME: nl_NL.UTF-8\n",
      "LC_NUMERIC: nl_NL.UTF-8\n",
      "LC_PAPER: nl_NL.UTF-8\n",
      "LC_TELEPHONE: nl_NL.UTF-8\n",
      "LC_TIME: nl_NL.UTF-8\n",
      "LESSCLOSE: /usr/bin/lesspipe %s %s\n",
      "LESSOPEN: | /usr/bin/lesspipe %s\n",
      "LOGNAME: brglt\n",
      "MANAGERPID: 1874\n",
      "MEMORY_PRESSURE_WATCH: /sys/fs/cgroup/user.slice/user-1000.slice/user@1000.service/session.slice/org.gnome.Shell@wayland.service/memory.pressure\n",
      "MEMORY_PRESSURE_WRITE: c29tZSAyMDAwMDAgMjAwMDAwMAA=\n",
      "ORIGINAL_XDG_CURRENT_DESKTOP: ubuntu:GNOME\n",
      "PATH: /home/brglt/miniconda3/envs/ml/bin:/home/brglt/.local/bin:/home/brglt/miniconda3/envs/ml/bin:/home/brglt/miniconda3/condabin:/home/brglt/.local/bin:/usr/local/sbin:/usr/local/bin:/usr/sbin:/usr/bin:/sbin:/bin:/usr/games:/usr/local/games:/snap/bin:/snap/bin:/home/brglt/.nilup/bin\n",
      "PWD: /home/brglt\n",
      "QT_ACCESSIBILITY: 1\n",
      "QT_IM_MODULE: ibus\n",
      "SESSION_MANAGER: local/Luca-hp:@/tmp/.ICE-unix/2149,unix/Luca-hp:/tmp/.ICE-unix/2149\n",
      "SHELL: /bin/bash\n",
      "SHLVL: 1\n",
      "SSH_AGENT_LAUNCHER: openssh\n",
      "SSH_AUTH_SOCK: /run/user/1000/keyring/ssh\n",
      "SYSTEMD_EXEC_PID: 2188\n",
      "USER: brglt\n",
      "USERNAME: brglt\n",
      "VSCODE_AMD_ENTRYPOINT: vs/workbench/api/node/extensionHostProcess\n",
      "VSCODE_CODE_CACHE_PATH: /home/brglt/.config/Code/CachedData/e170252f762678dec6ca2cc69aba1570769a5d39\n",
      "VSCODE_CRASH_REPORTER_PROCESS_TYPE: extensionHost\n",
      "VSCODE_CWD: /home/brglt\n",
      "VSCODE_HANDLES_UNCAUGHT_ERRORS: true\n",
      "VSCODE_IPC_HOOK: /run/user/1000/vscode-ab7fecbf-1.88-main.sock\n",
      "VSCODE_NLS_CONFIG: {\"locale\":\"en-us\",\"osLocale\":\"en-us\",\"availableLanguages\":{},\"_languagePackSupport\":true}\n",
      "VSCODE_PID: 3742\n",
      "WAYLAND_DISPLAY: wayland-0\n",
      "XAUTHORITY: /run/user/1000/.mutter-Xwaylandauth.Y6KDR2\n",
      "XDG_CONFIG_DIRS: /etc/xdg/xdg-ubuntu-wayland:/etc/xdg\n",
      "XDG_CURRENT_DESKTOP: Unity\n",
      "XDG_DATA_DIRS: /usr/share/ubuntu-wayland:/usr/share/gnome:/home/brglt/.local/share/flatpak/exports/share:/var/lib/flatpak/exports/share:/usr/local/share/:/usr/share/:/var/lib/snapd/desktop\n",
      "XDG_MENU_PREFIX: gnome-\n",
      "XDG_RUNTIME_DIR: /run/user/1000\n",
      "XDG_SESSION_CLASS: user\n",
      "XDG_SESSION_DESKTOP: ubuntu-wayland\n",
      "XDG_SESSION_TYPE: wayland\n",
      "XMODIFIERS: @im=ibus\n",
      "_: /home/brglt/miniconda3/envs/ml/bin/python\n",
      "ELECTRON_RUN_AS_NODE: 1\n",
      "VSCODE_L10N_BUNDLE_LOCATION: \n",
      "PYTHONUNBUFFERED: 1\n",
      "_CE_M: \n",
      "CONDA_ROOT: /home/brglt/miniconda3\n",
      "_CE_CONDA: \n",
      "PYTHONIOENCODING: utf-8\n",
      "CONDA_PREFIX_1: /home/brglt/miniconda3\n",
      "PYDEVD_IPYTHON_COMPATIBLE_DEBUGGING: 1\n",
      "PYDEVD_USE_FRAME_EVAL: NO\n",
      "TERM: xterm-color\n",
      "CLICOLOR: 1\n",
      "FORCE_COLOR: 1\n",
      "CLICOLOR_FORCE: 1\n",
      "PAGER: cat\n",
      "GIT_PAGER: cat\n",
      "MPLBACKEND: module://matplotlib_inline.backend_inline\n",
      "KMP_DUPLICATE_LIB_OK: True\n",
      "KMP_INIT_AT_FORK: FALSE\n",
      "NILLION_CLUSTER_ID: 9e68173f-9c23-4acc-ba81-4f079b639964\n",
      "NILLION_BOOTNODE_MULTIADDRESS: /ip4/127.0.0.1/tcp/37939/p2p/12D3KooWMvw1hEqm7EWSDEyqTb6pNetUVkepahKY6hixuAuMZfJS\n",
      "NILLION_BOOTNODE_WEBSOCKET: /ip4/127.0.0.1/tcp/54936/ws/p2p/12D3KooWMvw1hEqm7EWSDEyqTb6pNetUVkepahKY6hixuAuMZfJS\n",
      "NILLION_NILCHAIN_CHAIN_ID: nillion-chain-devnet\n",
      "NILLION_NILCHAIN_JSON_RPC: http://127.0.0.1:48102\n",
      "NILLION_NILCHAIN_REST_API: http://localhost:26650\n",
      "NILLION_NILCHAIN_GRPC: localhost:26649\n",
      "NILLION_NILCHAIN_PRIVATE_KEY_0: 9a975f567428d054f2bf3092812e6c42f901ce07d9711bc77ee2cd81101f42c5\n",
      "NILLION_NILCHAIN_PRIVATE_KEY_1: 1e491133b9408b39572a29f91644873decea554224b20e2b0b923aeb860a1c18\n",
      "NILLION_NILCHAIN_PRIVATE_KEY_2: 980488572f235316cdb330191f8bafe4e635efbe88b3a40f5bee9bd21047c059\n",
      "NILLION_NILCHAIN_PRIVATE_KEY_3: 612bb5173dc60d9e91404fcc0d1f1847fb4459a7d5160d63d84e91aacbf2ab2f\n",
      "NILLION_NILCHAIN_PRIVATE_KEY_4: 04f5a984eeea9dce4e5e907da69c01a61568e3071b1a91cbed89225f9fd913b5\n",
      "NILLION_NILCHAIN_PRIVATE_KEY_5: 5f992c58921f4af83b4c6b650c4914626664cd02020577b0ada49cfa00d2c8a4\n",
      "NILLION_NILCHAIN_PRIVATE_KEY_6: 8f0297d3bb647eb59b95b29550b2aebbedd9be2c954b000e772efe8c9318a42d\n",
      "NILLION_NILCHAIN_PRIVATE_KEY_7: c395243df9bb68dc809668efe4125f0eb017771ed8e3747b8d6860551913fecb\n",
      "NILLION_NILCHAIN_PRIVATE_KEY_8: 4bb5eaa799e24ae2b48545c41331921afe7e6a8dd7a850f5fbeb20a8226664ec\n",
      "NILLION_NILCHAIN_PRIVATE_KEY_9: ef4b944d4fdb0077057925fe2dde365dfa2c83cf320463b14589feccd1b2b938\n"
     ]
    }
   ],
   "source": [
    "env_vars = {key: os.getenv(key) for key in os.environ.keys()}\n",
    "\n",
    "# Print the environment variables\n",
    "for key, value in env_vars.items():\n",
    "    print(f'{key}: {value}')"
   ]
  },
  {
   "cell_type": "code",
   "execution_count": 18,
   "metadata": {},
   "outputs": [
    {
     "data": {
      "text/plain": [
       "('9e68173f-9c23-4acc-ba81-4f079b639964',\n",
       " 'localhost:26649',\n",
       " 'nillion-chain-devnet',\n",
       " '12D3KooWJHrXiK2JTCjJxwCCktJPSYsUsz2WHEBSB5iZtqGiZ8Qm')"
      ]
     },
     "execution_count": 18,
     "metadata": {},
     "output_type": "execute_result"
    }
   ],
   "source": [
    "cluster_id, grpc_endpoint, chain_id, model_provider_party_id"
   ]
  },
  {
   "cell_type": "code",
   "execution_count": 19,
   "metadata": {},
   "outputs": [
    {
     "data": {
      "text/plain": [
       "('9e68173f-9c23-4acc-ba81-4f079b639964',\n",
       " 'localhost:26649',\n",
       " 'nillion-chain-devnet',\n",
       " '12D3KooWJHrXiK2JTCjJxwCCktJPSYsUsz2WHEBSB5iZtqGiZ8Qm')"
      ]
     },
     "execution_count": 19,
     "metadata": {},
     "output_type": "execute_result"
    }
   ],
   "source": [
    "cluster_id, grpc_endpoint, chain_id, model_provider_party_id"
   ]
  },
  {
   "cell_type": "code",
   "execution_count": 20,
   "metadata": {},
   "outputs": [
    {
     "data": {
      "text/plain": [
       "'12D3KooWJHrXiK2JTCjJxwCCktJPSYsUsz2WHEBSB5iZtqGiZ8Qm'"
      ]
     },
     "execution_count": 20,
     "metadata": {},
     "output_type": "execute_result"
    }
   ],
   "source": [
    "model_provider_party_id"
   ]
  },
  {
   "cell_type": "code",
   "execution_count": 21,
   "metadata": {},
   "outputs": [],
   "source": [
    "!pynadac src/multy_percep.py"
   ]
  },
  {
   "cell_type": "code",
   "execution_count": 22,
   "metadata": {},
   "outputs": [],
   "source": [
    "party_names = [\"Provider\", \"User\"]\n",
    "program_name = \"multy_percep\"\n",
    "program_mir_path = f\"target/{program_name}.nada.bin\""
   ]
  },
  {
   "cell_type": "code",
   "execution_count": 23,
   "metadata": {},
   "outputs": [
    {
     "data": {
      "text/plain": [
       "'ed2978a79df1781fabc55ec395297d2ab0337b1e1d5346f99a9a108bea4c0dc'"
      ]
     },
     "execution_count": 23,
     "metadata": {},
     "output_type": "execute_result"
    }
   ],
   "source": [
    "os.getenv(\"NILLION_NILCHAIN_PRIVATE_KEY_0\")\n",
    "\"ed2978a79df1781fabc55ec395297d2ab0337b1e1d5346f99a9a108bea4c0dc\""
   ]
  },
  {
   "cell_type": "code",
   "execution_count": 24,
   "metadata": {},
   "outputs": [],
   "source": [
    "payments_config = create_payments_config(chain_id, grpc_endpoint)\n",
    "payments_client = LedgerClient(payments_config)\n",
    "payments_wallet = LocalWallet(\n",
    "    PrivateKey(bytes.fromhex(os.getenv(\"NILLION_NILCHAIN_PRIVATE_KEY_0\"))),\n",
    "    prefix=\"nillion\",\n",
    ")"
   ]
  },
  {
   "cell_type": "code",
   "execution_count": 25,
   "metadata": {},
   "outputs": [],
   "source": [
    "\n",
    "# Hardcoded private key value\n",
    "private_key_hex = \"ced2978a79df1781fabc55ec395297d2ab0337b1e1d5346f99a9a108bea4c0dc\"\n",
    "\n",
    "# Create the wallet using the hardcoded private key\n",
    "payments_wallet = LocalWallet(\n",
    "    PrivateKey(bytes.fromhex(private_key_hex)),\n",
    "    prefix=\"nillion\",\n",
    ")\n"
   ]
  },
  {
   "cell_type": "markdown",
   "metadata": {},
   "source": [
    "### Upload Nada program to Nillion"
   ]
  },
  {
   "cell_type": "markdown",
   "metadata": {},
   "source": [
    "TODO: explain what the Nada program does"
   ]
  },
  {
   "cell_type": "code",
   "execution_count": 26,
   "metadata": {},
   "outputs": [
    {
     "name": "stdout",
     "output_type": "stream",
     "text": [
      "target/multy_percep.nada.bin\n"
     ]
    }
   ],
   "source": [
    "print(program_mir_path)"
   ]
  },
  {
   "cell_type": "code",
   "execution_count": 27,
   "metadata": {},
   "outputs": [
    {
     "name": "stdout",
     "output_type": "stream",
     "text": [
      "Getting quote for operation...\n"
     ]
    },
    {
     "ename": "RuntimeError",
     "evalue": "requesting price quote: price quote query failed: key not found: ClusterDescriptor_9e68173f-9c23-4acc-ba81-4f079b639964",
     "output_type": "error",
     "traceback": [
      "\u001b[0;31m---------------------------------------------------------------------------\u001b[0m",
      "\u001b[0;31mRuntimeError\u001b[0m                              Traceback (most recent call last)",
      "Cell \u001b[0;32mIn[27], line 1\u001b[0m\n\u001b[0;32m----> 1\u001b[0m program_id \u001b[38;5;241m=\u001b[39m \u001b[38;5;28;01mawait\u001b[39;00m store_program(\n\u001b[1;32m      2\u001b[0m     model_provider_client,\n\u001b[1;32m      3\u001b[0m     payments_wallet,\n\u001b[1;32m      4\u001b[0m     payments_client,\n\u001b[1;32m      5\u001b[0m     model_provider_user_id,\n\u001b[1;32m      6\u001b[0m     cluster_id,\n\u001b[1;32m      7\u001b[0m     program_name,\n\u001b[1;32m      8\u001b[0m     program_mir_path,\n\u001b[1;32m      9\u001b[0m )\n",
      "File \u001b[0;32m~/Desktop/nillion/quickstart/nada_quickstart_programs/common/utils.py:82\u001b[0m, in \u001b[0;36mstore_program\u001b[0;34m(client, payments_wallet, payments_client, user_id, cluster_id, program_name, program_mir_path, verbose)\u001b[0m\n\u001b[1;32m     58\u001b[0m \u001b[38;5;28;01masync\u001b[39;00m \u001b[38;5;28;01mdef\u001b[39;00m \u001b[38;5;21mstore_program\u001b[39m(\n\u001b[1;32m     59\u001b[0m     client: nillion\u001b[38;5;241m.\u001b[39mNillionClient,\n\u001b[1;32m     60\u001b[0m     payments_wallet: LocalWallet,\n\u001b[0;32m   (...)\u001b[0m\n\u001b[1;32m     66\u001b[0m     verbose: \u001b[38;5;28mbool\u001b[39m \u001b[38;5;241m=\u001b[39m \u001b[38;5;28;01mTrue\u001b[39;00m,\n\u001b[1;32m     67\u001b[0m ) \u001b[38;5;241m-\u001b[39m\u001b[38;5;241m>\u001b[39m \u001b[38;5;28mstr\u001b[39m:\n\u001b[1;32m     68\u001b[0m \u001b[38;5;250m    \u001b[39m\u001b[38;5;124;03m\"\"\"\u001b[39;00m\n\u001b[1;32m     69\u001b[0m \u001b[38;5;124;03m    Asynchronous function to store a program on the nillion client.\u001b[39;00m\n\u001b[1;32m     70\u001b[0m \n\u001b[0;32m   (...)\u001b[0m\n\u001b[1;32m     80\u001b[0m \u001b[38;5;124;03m        str: Program ID.\u001b[39;00m\n\u001b[1;32m     81\u001b[0m \u001b[38;5;124;03m    \"\"\"\u001b[39;00m\n\u001b[0;32m---> 82\u001b[0m     quote_store_program \u001b[38;5;241m=\u001b[39m \u001b[38;5;28;01mawait\u001b[39;00m get_quote(\n\u001b[1;32m     83\u001b[0m         client, nillion\u001b[38;5;241m.\u001b[39mOperation\u001b[38;5;241m.\u001b[39mstore_program(program_mir_path), cluster_id\n\u001b[1;32m     84\u001b[0m     )\n\u001b[1;32m     86\u001b[0m     receipt_store_program \u001b[38;5;241m=\u001b[39m \u001b[38;5;28;01mawait\u001b[39;00m pay_with_quote(\n\u001b[1;32m     87\u001b[0m         quote_store_program, payments_wallet, payments_client\n\u001b[1;32m     88\u001b[0m     )\n\u001b[1;32m     90\u001b[0m     action_id \u001b[38;5;241m=\u001b[39m \u001b[38;5;28;01mawait\u001b[39;00m client\u001b[38;5;241m.\u001b[39mstore_program(\n\u001b[1;32m     91\u001b[0m         cluster_id, program_name, program_mir_path, receipt_store_program\n\u001b[1;32m     92\u001b[0m     )\n",
      "File \u001b[0;32m~/miniconda3/envs/ml/lib/python3.12/site-packages/nillion_python_helpers/payments.py:62\u001b[0m, in \u001b[0;36mget_quote\u001b[0;34m(client, operation, cluster_id)\u001b[0m\n\u001b[1;32m     50\u001b[0m \u001b[38;5;250m\u001b[39m\u001b[38;5;124;03m\"\"\"\u001b[39;00m\n\u001b[1;32m     51\u001b[0m \u001b[38;5;124;03mRetrieves a price quote for the specified operation using the Nillion client.\u001b[39;00m\n\u001b[1;32m     52\u001b[0m \n\u001b[0;32m   (...)\u001b[0m\n\u001b[1;32m     59\u001b[0m \u001b[38;5;124;03m    nillion.PriceQuote: The price quote for the operation.\u001b[39;00m\n\u001b[1;32m     60\u001b[0m \u001b[38;5;124;03m\"\"\"\u001b[39;00m\n\u001b[1;32m     61\u001b[0m \u001b[38;5;28mprint\u001b[39m(\u001b[38;5;124m\"\u001b[39m\u001b[38;5;124mGetting quote for operation...\u001b[39m\u001b[38;5;124m\"\u001b[39m)\n\u001b[0;32m---> 62\u001b[0m quote \u001b[38;5;241m=\u001b[39m \u001b[38;5;28;01mawait\u001b[39;00m client\u001b[38;5;241m.\u001b[39mrequest_price_quote(cluster_id, operation)\n\u001b[1;32m     63\u001b[0m \u001b[38;5;28;01mreturn\u001b[39;00m quote\n",
      "\u001b[0;31mRuntimeError\u001b[0m: requesting price quote: price quote query failed: key not found: ClusterDescriptor_9e68173f-9c23-4acc-ba81-4f079b639964"
     ]
    }
   ],
   "source": [
    "program_id = await store_program(\n",
    "    model_provider_client,\n",
    "    payments_wallet,\n",
    "    payments_client,\n",
    "    model_provider_user_id,\n",
    "    cluster_id,\n",
    "    program_name,\n",
    "    program_mir_path,\n",
    ")"
   ]
  },
  {
   "cell_type": "markdown",
   "metadata": {},
   "source": [
    "### Upload weights to Nillion network"
   ]
  },
  {
   "cell_type": "code",
   "execution_count": null,
   "metadata": {},
   "outputs": [],
   "source": [
    "# Create and store model secrets via ModelClient\n",
    "model_client = TorchClient(my_model)"
   ]
  },
  {
   "cell_type": "code",
   "execution_count": null,
   "metadata": {},
   "outputs": [
    {
     "name": "stdout",
     "output_type": "stream",
     "text": [
      "Getting quote for operation...\n",
      "Quote cost is 5570 unil\n",
      "Submitting payment receipt 5570 unil, tx hash 72E35DB17E9E292124B555661C1F4DA5D7AD9697F77C5FC97B326D42ED5CE698\n"
     ]
    }
   ],
   "source": [
    "model_secrets = nillion.NadaValues(\n",
    "    model_client.export_state_as_secrets(\"my_nn\", na.SecretRational)\n",
    ")\n",
    "permissions = nillion.Permissions.default_for_user(model_provider_client.user_id)\n",
    "permissions.add_compute_permissions({model_provider_client.user_id: {program_id}})\n",
    "\n",
    "model_store_id = await store_secrets(\n",
    "    model_provider_client,\n",
    "    payments_wallet,\n",
    "    payments_client,\n",
    "    cluster_id,\n",
    "    model_secrets,\n",
    "    1,\n",
    "    permissions,\n",
    ")"
   ]
  },
  {
   "cell_type": "code",
   "execution_count": null,
   "metadata": {},
   "outputs": [
    {
     "data": {
      "text/plain": [
       "'/home/brglt/Desktop/nillion/quickstart/nada_quickstart_programs'"
      ]
     },
     "execution_count": 31,
     "metadata": {},
     "output_type": "execute_result"
    }
   ],
   "source": [
    "os.getcwd()"
   ]
  },
  {
   "cell_type": "code",
   "execution_count": null,
   "metadata": {},
   "outputs": [],
   "source": [
    "# This information is needed by the model user\n",
    "with open(\"src/data/tmp.json\", \"w\") as provider_variables_file:\n",
    "    provider_variables = {\n",
    "        \"program_id\": program_id,\n",
    "        \"model_store_id\": model_store_id,\n",
    "        \"model_provider_party_id\": model_provider_party_id,\n",
    "    }\n",
    "    json.dump(provider_variables, provider_variables_file)"
   ]
  },
  {
   "cell_type": "code",
   "execution_count": null,
   "metadata": {},
   "outputs": [],
   "source": [
    "torch.save(my_model.state_dict(), \"src/data/my_model.pt\")"
   ]
  }
 ],
 "metadata": {
  "kernelspec": {
   "display_name": "Python 3",
   "language": "python",
   "name": "python3"
  },
  "language_info": {
   "codemirror_mode": {
    "name": "ipython",
    "version": 3
   },
   "file_extension": ".py",
   "mimetype": "text/x-python",
   "name": "python",
   "nbconvert_exporter": "python",
   "pygments_lexer": "ipython3",
   "version": "3.12.2"
  }
 },
 "nbformat": 4,
 "nbformat_minor": 2
}
